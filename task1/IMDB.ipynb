{
 "cells": [
  {
   "cell_type": "code",
   "execution_count": 1,
   "metadata": {},
   "outputs": [
    {
     "name": "stdout",
     "output_type": "stream",
     "text": [
      "1.9.0\n"
     ]
    }
   ],
   "source": [
    "import tensorflow as tf\n",
    "from tensorflow import keras\n",
    "import numpy as np\n",
    "print(tf.__version__)"
   ]
  },
  {
   "cell_type": "markdown",
   "metadata": {},
   "source": [
    "## 保留训练数据中出现频次在前 10000 位的字词"
   ]
  },
  {
   "cell_type": "markdown",
   "metadata": {},
   "source": [
    "imdb = keras.datasets.imdb\n",
    "(train_data, train_labels), (test_data, test_labels) = imdb.load_data(num_words=10000)"
   ]
  },
  {
   "cell_type": "code",
   "execution_count": 3,
   "metadata": {},
   "outputs": [
    {
     "name": "stdout",
     "output_type": "stream",
     "text": [
      "Training entries: 25000, labels: 25000\n"
     ]
    }
   ],
   "source": [
    "print(\"Training entries: {}, labels: {}\".format(len(train_data), len(train_labels)))"
   ]
  },
  {
   "cell_type": "code",
   "execution_count": null,
   "metadata": {},
   "outputs": [],
   "source": [
    "print(train_data[0])"
   ]
  },
  {
   "cell_type": "markdown",
   "metadata": {},
   "source": [
    "## 标签0表示负面影评，1表示正面影评。"
   ]
  },
  {
   "cell_type": "markdown",
   "metadata": {},
   "source": [
    "len(train_data[0]), len(train_data[1])"
   ]
  },
  {
   "cell_type": "markdown",
   "metadata": {},
   "source": [
    "## 字符串映射到整数"
   ]
  },
  {
   "cell_type": "code",
   "execution_count": null,
   "metadata": {},
   "outputs": [],
   "source": [
    "word_index = imdb.get_word_index()\n",
    "word_index = {k:(v+3) for k,v in word_index.items()}\n",
    "word_index[\"<PAD>\"] = 0\n",
    "word_index[\"<START>\"] = 1\n",
    "word_index[\"<UNK>\"] = 2  # unknown\n",
    "word_index[\"<UNUSED>\"] = 3\n",
    "# 翻转key和value\n",
    "reverse_word_index = dict([(value, key) for (key, value) in word_index.items()])\n",
    "def decode_review(text):\n",
    "    return ' '.join([reverse_word_index.get(i, '?') for i in text])\n",
    "# 将训练数据转化为文字\n",
    "decode_review(train_data[0])"
   ]
  },
  {
   "cell_type": "markdown",
   "metadata": {},
   "source": [
    "## 使用填充数组，使它们都具有相同的长度，创建一个形状为 max_length * num_reviews 的整数张量"
   ]
  },
  {
   "cell_type": "code",
   "execution_count": 10,
   "metadata": {},
   "outputs": [],
   "source": [
    "train_data = keras.preprocessing.sequence.pad_sequences(train_data,\n",
    "                                                        value=word_index[\"<PAD>\"],\n",
    "                                                        padding='post',\n",
    "                                                        maxlen=256)\n",
    "\n",
    "test_data = keras.preprocessing.sequence.pad_sequences(test_data,\n",
    "                                                       value=word_index[\"<PAD>\"],\n",
    "                                                       padding='post',\n",
    "                                                       maxlen=256)"
   ]
  },
  {
   "cell_type": "code",
   "execution_count": 11,
   "metadata": {},
   "outputs": [
    {
     "data": {
      "text/plain": [
       "(256, 256)"
      ]
     },
     "execution_count": 11,
     "metadata": {},
     "output_type": "execute_result"
    }
   ],
   "source": [
    "len(train_data[0]), len(train_data[1])"
   ]
  },
  {
   "cell_type": "code",
   "execution_count": 12,
   "metadata": {},
   "outputs": [
    {
     "name": "stdout",
     "output_type": "stream",
     "text": [
      "[   1   14   22   16   43  530  973 1622 1385   65  458 4468   66 3941\n",
      "    4  173   36  256    5   25  100   43  838  112   50  670    2    9\n",
      "   35  480  284    5  150    4  172  112  167    2  336  385   39    4\n",
      "  172 4536 1111   17  546   38   13  447    4  192   50   16    6  147\n",
      " 2025   19   14   22    4 1920 4613  469    4   22   71   87   12   16\n",
      "   43  530   38   76   15   13 1247    4   22   17  515   17   12   16\n",
      "  626   18    2    5   62  386   12    8  316    8  106    5    4 2223\n",
      " 5244   16  480   66 3785   33    4  130   12   16   38  619    5   25\n",
      "  124   51   36  135   48   25 1415   33    6   22   12  215   28   77\n",
      "   52    5   14  407   16   82    2    8    4  107  117 5952   15  256\n",
      "    4    2    7 3766    5  723   36   71   43  530  476   26  400  317\n",
      "   46    7    4    2 1029   13  104   88    4  381   15  297   98   32\n",
      " 2071   56   26  141    6  194 7486   18    4  226   22   21  134  476\n",
      "   26  480    5  144   30 5535   18   51   36   28  224   92   25  104\n",
      "    4  226   65   16   38 1334   88   12   16  283    5   16 4472  113\n",
      "  103   32   15   16 5345   19  178   32    0    0    0    0    0    0\n",
      "    0    0    0    0    0    0    0    0    0    0    0    0    0    0\n",
      "    0    0    0    0    0    0    0    0    0    0    0    0    0    0\n",
      "    0    0    0    0]\n"
     ]
    }
   ],
   "source": [
    "print(train_data[0])"
   ]
  },
  {
   "cell_type": "code",
   "execution_count": 9,
   "metadata": {},
   "outputs": [
    {
     "name": "stdout",
     "output_type": "stream",
     "text": [
      "_________________________________________________________________\n",
      "Layer (type)                 Output Shape              Param #   \n",
      "=================================================================\n",
      "embedding (Embedding)        (None, None, 16)          160000    \n",
      "_________________________________________________________________\n",
      "global_average_pooling1d (Gl (None, 16)                0         \n",
      "_________________________________________________________________\n",
      "dense (Dense)                (None, 16)                272       \n",
      "_________________________________________________________________\n",
      "dense_1 (Dense)              (None, 1)                 17        \n",
      "=================================================================\n",
      "Total params: 160,289\n",
      "Trainable params: 160,289\n",
      "Non-trainable params: 0\n",
      "_________________________________________________________________\n"
     ]
    }
   ],
   "source": [
    "vocab_size = 10000\n",
    "\n",
    "model = keras.Sequential()\n",
    "model.add(keras.layers.Embedding(vocab_size, 16))\n",
    "model.add(keras.layers.GlobalAveragePooling1D())\n",
    "model.add(keras.layers.Dense(16, activation=tf.nn.relu))\n",
    "model.add(keras.layers.Dense(1, activation=tf.nn.sigmoid))\n",
    "model.summary()"
   ]
  },
  {
   "cell_type": "markdown",
   "metadata": {},
   "source": [
    "## 使用 binary_crossentropy 损失函数 "
   ]
  },
  {
   "cell_type": "code",
   "execution_count": 21,
   "metadata": {},
   "outputs": [],
   "source": [
    "model.compile(optimizer=tf.train.AdamOptimizer(),\n",
    "              loss='binary_crossentropy',\n",
    "              metrics=['accuracy'])"
   ]
  },
  {
   "cell_type": "markdown",
   "metadata": {},
   "source": [
    "## 数据集分离成训练集，验证集"
   ]
  },
  {
   "cell_type": "code",
   "execution_count": 22,
   "metadata": {},
   "outputs": [],
   "source": [
    "x_val = train_data[:10000]\n",
    "partial_x_train = train_data[10000:]\n",
    "\n",
    "y_val = train_labels[:10000]\n",
    "partial_y_train = train_labels[10000:]"
   ]
  },
  {
   "cell_type": "markdown",
   "metadata": {},
   "source": [
    "## 模型训练 "
   ]
  },
  {
   "cell_type": "code",
   "execution_count": 23,
   "metadata": {},
   "outputs": [
    {
     "name": "stdout",
     "output_type": "stream",
     "text": [
      "Train on 15000 samples, validate on 10000 samples\n",
      "Epoch 1/40\n",
      "15000/15000 [==============================] - 3s 181us/step - loss: 0.6950 - acc: 0.5024 - val_loss: 0.6925 - val_acc: 0.4953\n",
      "Epoch 2/40\n",
      "15000/15000 [==============================] - 0s 32us/step - loss: 0.6905 - acc: 0.5688 - val_loss: 0.6896 - val_acc: 0.5935\n",
      "Epoch 3/40\n",
      "15000/15000 [==============================] - 0s 32us/step - loss: 0.6882 - acc: 0.6070 - val_loss: 0.6876 - val_acc: 0.5740\n",
      "Epoch 4/40\n",
      "15000/15000 [==============================] - 0s 32us/step - loss: 0.6853 - acc: 0.6561 - val_loss: 0.6847 - val_acc: 0.5535\n",
      "Epoch 5/40\n",
      "15000/15000 [==============================] - 0s 33us/step - loss: 0.6811 - acc: 0.6521 - val_loss: 0.6794 - val_acc: 0.7428\n",
      "Epoch 6/40\n",
      "15000/15000 [==============================] - 0s 32us/step - loss: 0.6750 - acc: 0.7429 - val_loss: 0.6727 - val_acc: 0.7449\n",
      "Epoch 7/40\n",
      "15000/15000 [==============================] - 0s 32us/step - loss: 0.6659 - acc: 0.7497 - val_loss: 0.6632 - val_acc: 0.7310\n",
      "Epoch 8/40\n",
      "15000/15000 [==============================] - 0s 31us/step - loss: 0.6530 - acc: 0.7546 - val_loss: 0.6495 - val_acc: 0.7428\n",
      "Epoch 9/40\n",
      "15000/15000 [==============================] - 0s 31us/step - loss: 0.6356 - acc: 0.7636 - val_loss: 0.6307 - val_acc: 0.7574\n",
      "Epoch 10/40\n",
      "15000/15000 [==============================] - 0s 31us/step - loss: 0.6127 - acc: 0.7787 - val_loss: 0.6076 - val_acc: 0.7696\n",
      "Epoch 11/40\n",
      "15000/15000 [==============================] - 0s 31us/step - loss: 0.5858 - acc: 0.7808 - val_loss: 0.5827 - val_acc: 0.7727\n",
      "Epoch 12/40\n",
      "15000/15000 [==============================] - 0s 32us/step - loss: 0.5556 - acc: 0.7959 - val_loss: 0.5532 - val_acc: 0.7875\n",
      "Epoch 13/40\n",
      "15000/15000 [==============================] - 0s 32us/step - loss: 0.5236 - acc: 0.8122 - val_loss: 0.5254 - val_acc: 0.7993\n",
      "Epoch 14/40\n",
      "15000/15000 [==============================] - 0s 32us/step - loss: 0.4925 - acc: 0.8254 - val_loss: 0.4973 - val_acc: 0.8120\n",
      "Epoch 15/40\n",
      "15000/15000 [==============================] - 0s 33us/step - loss: 0.4623 - acc: 0.8365 - val_loss: 0.4706 - val_acc: 0.8217\n",
      "Epoch 16/40\n",
      "15000/15000 [==============================] - 0s 31us/step - loss: 0.4347 - acc: 0.8453 - val_loss: 0.4469 - val_acc: 0.8316\n",
      "Epoch 17/40\n",
      "15000/15000 [==============================] - 0s 31us/step - loss: 0.4083 - acc: 0.8585 - val_loss: 0.4259 - val_acc: 0.8392\n",
      "Epoch 18/40\n",
      "15000/15000 [==============================] - 0s 32us/step - loss: 0.3852 - acc: 0.8676 - val_loss: 0.4067 - val_acc: 0.8461\n",
      "Epoch 19/40\n",
      "15000/15000 [==============================] - 0s 31us/step - loss: 0.3647 - acc: 0.8744 - val_loss: 0.3904 - val_acc: 0.8515\n",
      "Epoch 20/40\n",
      "15000/15000 [==============================] - 0s 32us/step - loss: 0.3466 - acc: 0.8808 - val_loss: 0.3764 - val_acc: 0.8548\n",
      "Epoch 21/40\n",
      "15000/15000 [==============================] - 0s 32us/step - loss: 0.3303 - acc: 0.8856 - val_loss: 0.3643 - val_acc: 0.8588\n",
      "Epoch 22/40\n",
      "15000/15000 [==============================] - 0s 31us/step - loss: 0.3160 - acc: 0.8897 - val_loss: 0.3540 - val_acc: 0.8630\n",
      "Epoch 23/40\n",
      "15000/15000 [==============================] - 0s 31us/step - loss: 0.3033 - acc: 0.8927 - val_loss: 0.3455 - val_acc: 0.8657\n",
      "Epoch 24/40\n",
      "15000/15000 [==============================] - 0s 32us/step - loss: 0.2914 - acc: 0.8979 - val_loss: 0.3374 - val_acc: 0.8683\n",
      "Epoch 25/40\n",
      "15000/15000 [==============================] - 0s 31us/step - loss: 0.2809 - acc: 0.9010 - val_loss: 0.3306 - val_acc: 0.8716\n",
      "Epoch 26/40\n",
      "15000/15000 [==============================] - 0s 32us/step - loss: 0.2712 - acc: 0.9033 - val_loss: 0.3250 - val_acc: 0.8734\n",
      "Epoch 27/40\n",
      "15000/15000 [==============================] - 0s 32us/step - loss: 0.2627 - acc: 0.9055 - val_loss: 0.3196 - val_acc: 0.8741\n",
      "Epoch 28/40\n",
      "15000/15000 [==============================] - 0s 32us/step - loss: 0.2540 - acc: 0.9101 - val_loss: 0.3149 - val_acc: 0.8767\n",
      "Epoch 29/40\n",
      "15000/15000 [==============================] - 0s 31us/step - loss: 0.2463 - acc: 0.9117 - val_loss: 0.3111 - val_acc: 0.8752\n",
      "Epoch 30/40\n",
      "15000/15000 [==============================] - 0s 32us/step - loss: 0.2398 - acc: 0.9135 - val_loss: 0.3074 - val_acc: 0.8783\n",
      "Epoch 31/40\n",
      "15000/15000 [==============================] - 0s 32us/step - loss: 0.2323 - acc: 0.9181 - val_loss: 0.3045 - val_acc: 0.8791\n",
      "Epoch 32/40\n",
      "15000/15000 [==============================] - 0s 31us/step - loss: 0.2265 - acc: 0.9195 - val_loss: 0.3017 - val_acc: 0.8815\n",
      "Epoch 33/40\n",
      "15000/15000 [==============================] - 0s 32us/step - loss: 0.2197 - acc: 0.9229 - val_loss: 0.2992 - val_acc: 0.8822\n",
      "Epoch 34/40\n",
      "15000/15000 [==============================] - 0s 32us/step - loss: 0.2139 - acc: 0.9250 - val_loss: 0.2971 - val_acc: 0.8828\n",
      "Epoch 35/40\n",
      "15000/15000 [==============================] - 0s 32us/step - loss: 0.2089 - acc: 0.9269 - val_loss: 0.2952 - val_acc: 0.8828\n",
      "Epoch 36/40\n",
      "15000/15000 [==============================] - 0s 32us/step - loss: 0.2030 - acc: 0.9292 - val_loss: 0.2937 - val_acc: 0.8828\n",
      "Epoch 37/40\n",
      "15000/15000 [==============================] - 0s 31us/step - loss: 0.1981 - acc: 0.9303 - val_loss: 0.2924 - val_acc: 0.8837\n",
      "Epoch 38/40\n",
      "15000/15000 [==============================] - 0s 32us/step - loss: 0.1934 - acc: 0.9331 - val_loss: 0.2907 - val_acc: 0.8844\n",
      "Epoch 39/40\n",
      "15000/15000 [==============================] - 0s 33us/step - loss: 0.1883 - acc: 0.9354 - val_loss: 0.2898 - val_acc: 0.8844\n",
      "Epoch 40/40\n",
      "15000/15000 [==============================] - 0s 33us/step - loss: 0.1838 - acc: 0.9370 - val_loss: 0.2887 - val_acc: 0.8853\n"
     ]
    }
   ],
   "source": [
    "history = model.fit(partial_x_train,\n",
    "                    partial_y_train,\n",
    "                    epochs=40,\n",
    "                    batch_size=512,\n",
    "                    validation_data=(x_val, y_val),\n",
    "                    verbose=1)"
   ]
  },
  {
   "cell_type": "markdown",
   "metadata": {},
   "source": [
    "## 模型测试 "
   ]
  },
  {
   "cell_type": "code",
   "execution_count": 18,
   "metadata": {},
   "outputs": [
    {
     "name": "stdout",
     "output_type": "stream",
     "text": [
      "25000/25000 [==============================] - 1s 24us/step\n",
      "[0.3042789040660858, 0.87532]\n"
     ]
    }
   ],
   "source": [
    "results = model.evaluate(test_data, test_labels)\n",
    "\n",
    "print(results)"
   ]
  },
  {
   "cell_type": "code",
   "execution_count": 19,
   "metadata": {},
   "outputs": [
    {
     "data": {
      "text/plain": [
       "dict_keys(['val_loss', 'val_acc', 'loss', 'acc'])"
      ]
     },
     "execution_count": 19,
     "metadata": {},
     "output_type": "execute_result"
    }
   ],
   "source": [
    "history_dict = history.history\n",
    "history_dict.keys()"
   ]
  },
  {
   "cell_type": "markdown",
   "metadata": {},
   "source": [
    "## 画训练准确率与验证准确率图 "
   ]
  },
  {
   "cell_type": "code",
   "execution_count": 21,
   "metadata": {},
   "outputs": [
    {
     "data": {
      "image/png": "[encoded data removed]",
      "text/plain": [
       "<Figure size 432x288 with 1 Axes>"
      ]
     },
     "metadata": {},
     "output_type": "display_data"
    }
   ],
   "source": [
    "import matplotlib.pyplot as plt\n",
    "\n",
    "acc = history.history['acc']\n",
    "val_acc = history.history['val_acc']\n",
    "loss = history.history['loss']\n",
    "val_loss = history.history['val_loss']\n",
    "\n",
    "epochs = range(1, len(acc) + 1)\n",
    "\n",
    "# \"bo\" is for \"blue dot\"\n",
    "plt.plot(epochs, loss, 'bo', label='Training loss')\n",
    "# b is for \"solid blue line\"\n",
    "plt.plot(epochs, val_loss, 'b', label='Validation loss')\n",
    "plt.title('Training and validation loss')\n",
    "plt.xlabel('Epochs')\n",
    "plt.ylabel('Loss')\n",
    "plt.legend()\n",
    "\n",
    "plt.show()"
   ]
  },
  {
   "cell_type": "code",
   "execution_count": 22,
   "metadata": {},
   "outputs": [
    {
     "data": {
      "image/png": "[encoded data removed]",
      "text/plain": [
       "<Figure size 432x288 with 1 Axes>"
      ]
     },
     "metadata": {},
     "output_type": "display_data"
    }
   ],
   "source": [
    "plt.clf()   # clear figure\n",
    "acc_values = history_dict['acc']\n",
    "val_acc_values = history_dict['val_acc']\n",
    "\n",
    "plt.plot(epochs, acc, 'bo', label='Training acc')\n",
    "plt.plot(epochs, val_acc, 'b', label='Validation acc')\n",
    "plt.title('Training and validation accuracy')\n",
    "plt.xlabel('Epochs')\n",
    "plt.ylabel('Accuracy')\n",
    "plt.legend()\n",
    "\n",
    "plt.show()"
   ]
  },
  {
   "cell_type": "code",
   "execution_count": null,
   "metadata": {},
   "outputs": [],
   "source": []
  }
 ],
 "metadata": {
  "kernelspec": {
   "display_name": "Python 3",
   "language": "python",
   "name": "python3"
  },
  "language_info": {
   "codemirror_mode": {
    "name": "ipython",
    "version": 3
   },
   "file_extension": ".py",
   "mimetype": "text/x-python",
   "name": "python",
   "nbconvert_exporter": "python",
   "pygments_lexer": "ipython3",
   "version": "3.6.7"
  }
 },
 "nbformat": 4,
 "nbformat_minor": 2
}
